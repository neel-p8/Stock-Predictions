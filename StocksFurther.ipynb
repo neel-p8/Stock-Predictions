{
  "nbformat": 4,
  "nbformat_minor": 0,
  "metadata": {
    "colab": {
      "provenance": [],
      "authorship_tag": "ABX9TyMCNpSyWt14TkrhANho418D",
      "include_colab_link": true
    },
    "kernelspec": {
      "name": "python3",
      "display_name": "Python 3"
    },
    "language_info": {
      "name": "python"
    }
  },
  "cells": [
    {
      "cell_type": "markdown",
      "metadata": {
        "id": "view-in-github",
        "colab_type": "text"
      },
      "source": [
        "<a href=\"https://colab.research.google.com/github/neel-p8/Stock-Predictions/blob/main/StocksFurther.ipynb\" target=\"_parent\"><img src=\"https://colab.research.google.com/assets/colab-badge.svg\" alt=\"Open In Colab\"/></a>"
      ]
    },
    {
      "cell_type": "code",
      "execution_count": null,
      "metadata": {
        "id": "HPDYwi5FSDiV"
      },
      "outputs": [],
      "source": [
        "import yfinance as yf\n",
        "import pandas as pd\n",
        "from sklearn.metrics import precision_score\n",
        "from sklearn.ensemble import RandomForestClassifier\n",
        "\n",
        "# sp500 data\n",
        "sp500 = yf.Ticker(\"^GSPC\")\n",
        "sp500 = sp500.history(period=\"max\")\n",
        "sp500.index\n",
        "#sp500.plot.line(y=\"Close\", use_index=True)\n",
        "del sp500[\"Dividends\"]\n",
        "del sp500[\"Stock Splits\"]\n",
        "sp500[\"Tomorrow\"] = sp500[\"Close\"].shift(-1)\n",
        "sp500[\"Target\"] = (sp500[\"Tomorrow\"] > sp500[\"Close\"]).astype(int)\n",
        "sp500 = sp500.loc[\"1990-01-01\":].copy()\n",
        "\n",
        "# Japanese market\n",
        "nikkei = yf.Ticker(\"^N225\").history(period=\"max\")\n",
        "del nikkei[\"Dividends\"]\n",
        "del nikkei[\"Stock Splits\"]\n",
        "nikkei[\"Tomorrow\"] = nikkei[\"Close\"].shift(-1)\n",
        "nikkei = nikkei.loc[\"1990-01-01\":].copy()\n",
        "nikkei['Return'] = nikkei['Close'].pct_change()\n",
        "\n",
        "# english market\n",
        "ftse = yf.Ticker(\"^FTSE\").history(period=\"max\")\n",
        "del ftse[\"Dividends\"]\n",
        "del ftse[\"Stock Splits\"]\n",
        "ftse[\"Tomorrow\"] = ftse[\"Close\"].shift(-1)\n",
        "ftse = ftse.loc[\"1990-01-01\":].copy()\n",
        "ftse['Return'] = ftse['Close'].pct_change()\n",
        "\n",
        "# german market\n",
        "dax = yf.Ticker(\"^GDAXI\").history(period=\"max\")\n",
        "del dax[\"Dividends\"]\n",
        "del dax[\"Stock Splits\"]\n",
        "dax[\"Tomorrow\"] = dax[\"Close\"].shift(-1)\n",
        "dax = dax.loc[\"1990-01-01\":].copy()\n",
        "dax['Return'] = dax['Close'].pct_change()\n",
        "\n",
        "# oil?\n",
        "oil = yf.Ticker(\"CL=F\").history(period=\"max\")\n",
        "del oil[\"Dividends\"]\n",
        "del oil[\"Stock Splits\"]\n",
        "oil[\"Tomorrow\"] = oil[\"Close\"].shift(-1)\n",
        "oil = oil.loc[\"1990-01-01\":].copy()\n",
        "oil[\"Return\"] = oil[\"Close\"].pct_change()\n",
        "\n",
        "nikkei['Return'] = nikkei['Return'].shift(-1)\n",
        "ftse['Return'] = ftse['Return'].shift(-1)\n",
        "dax['Return'] = dax['Return'].shift(-1)\n",
        "sp500.index = sp500.index.date\n",
        "nikkei.index = nikkei.index.date\n",
        "ftse.index = ftse.index.date\n",
        "dax.index = dax.index.date\n",
        "oil.index = oil.index.date\n",
        "\n",
        "sp500['Return_N'] = nikkei['Return']\n",
        "sp500['Return_F'] = ftse['Return']\n",
        "sp500['Return_D'] = dax['Return']\n",
        "sp500['Return_O'] = oil['Return']\n",
        "sp500 = sp500.dropna()"
      ]
    },
    {
      "cell_type": "code",
      "source": [
        "model = RandomForestClassifier(n_estimators=200, min_samples_split=50, random_state=1)\n",
        "\n",
        "train = sp500.iloc[:-500]\n",
        "test = sp500.iloc[-500:]\n",
        "\n",
        "predictors = [\"Close\", \"Volume\", \"Open\", \"High\", \"Low\", \"Return_N\", \"Return_F\", \"Return_D\", \"Return_O\"]\n",
        "model.fit(train[predictors], train[\"Target\"])\n",
        "\n",
        "preds = model.predict(test[predictors])\n",
        "\n",
        "preds = pd.Series(preds, index=test.index)\n",
        "\n",
        "precision_score(test[\"Target\"], preds)\n",
        "combined = pd.concat([test[\"Target\"], preds], axis=1)\n",
        "#combined.plot()"
      ],
      "metadata": {
        "id": "7lHPp2MVWiW2"
      },
      "execution_count": null,
      "outputs": []
    },
    {
      "cell_type": "code",
      "source": [
        "def predict(train, test, predictors, model):\n",
        "    model.fit(train[predictors], train[\"Target\"])\n",
        "    preds = model.predict(test[predictors])\n",
        "    preds[preds >= 0.6] = 1\n",
        "    preds[preds < 0.6] = 0\n",
        "    preds = pd.Series(preds, index=test.index, name=\"Predictions\")\n",
        "    combined = pd.concat([test[\"Target\"], preds], axis=1)\n",
        "    return combined\n",
        "\n",
        "def backtest(data, model, predictors, start=2500, step=250):\n",
        "    all_predictions = []\n",
        "\n",
        "    for i in range(start, data.shape[0], step):\n",
        "        train = data.iloc[0:i].copy()\n",
        "        test = data.iloc[i:(i+step)].copy()\n",
        "        predictions = predict(train, test, predictors, model)\n",
        "        all_predictions.append(predictions)\n",
        "    return pd.concat(all_predictions)\n",
        "\n",
        "predictions = backtest(sp500, model, predictors)\n",
        "predictions[\"Predictions\"].value_counts()\n",
        "precision_score(predictions[\"Target\"], predictions[\"Predictions\"])"
      ],
      "metadata": {
        "id": "X87rWajGTO0r"
      },
      "execution_count": null,
      "outputs": []
    },
    {
      "cell_type": "code",
      "source": [
        "from sklearn.model_selection import train_test_split\n",
        "\n",
        "# Split the data into train+validation set and test set\n",
        "train_val, test = train_test_split(sp500, test_size=0.2, random_state=1)\n",
        "\n",
        "# Split the train+validation set into training set and validation set\n",
        "train, val = train_test_split(train_val, test_size=0.25, random_state=1)  # 0.25 x 0.8 = 0.2\n",
        "\n",
        "model.fit(train[predictors], train[\"Target\"])\n",
        "val_preds = model.predict(val[predictors])\n",
        "print(precision_score(val[\"Target\"], val_preds))\n",
        "\n",
        "from sklearn.model_selection import cross_val_score\n",
        "\n",
        "# Perform 5-fold cross-validation\n",
        "scores = cross_val_score(model, train_val[predictors], train_val[\"Target\"], cv=5, scoring='precision')\n",
        "\n",
        "# Print the precision for each fold\n",
        "print(scores)\n",
        "\n",
        "# Print the average precision\n",
        "print(scores.mean())"
      ],
      "metadata": {
        "id": "uGpPUMIzGRb1"
      },
      "execution_count": null,
      "outputs": []
    },
    {
      "cell_type": "code",
      "source": [
        "horizons = [2, 5, 60, 250, 1000]\n",
        "new_predictors = []\n",
        "for horizon in horizons:\n",
        "    rolling_averages = sp500.rolling(horizon).mean()\n",
        "\n",
        "    ratio_column = f\"Close_Ratio_{horizon}\"\n",
        "    sp500[ratio_column] = sp500[\"Close\"] / rolling_averages[\"Close\"]\n",
        "    trend_column = f\"Trend_{horizon}\"\n",
        "    sp500[trend_column] = sp500.shift(1).rolling(horizon).sum()[\"Target\"]\n",
        "    new_predictors += [ratio_column, trend_column]\n",
        "\n",
        "    sp500 = sp500.dropna()\n",
        "\n",
        "model = RandomForestClassifier(n_estimators=200, min_samples_split=50, random_state=1)\n",
        "def predict(train, test, predictors, model):\n",
        "    model.fit(train[predictors], train[\"Target\"])\n",
        "    preds = model.predict_proba(test[predictors]) [:,1]\n",
        "    preds[preds >= 0.6] = 1\n",
        "    preds[preds < 0.6] = 0\n",
        "    preds = pd.Series(preds, index=test.index, name=\"Predictions\")\n",
        "    combined = pd.concat([test[\"Target\"], preds], axis=1)\n",
        "    return combined\n",
        "\n",
        "predictions = backtest(sp500, model, new_predictors)\n",
        "predictions[\"Predictions\"].value_counts()\n",
        "precision_score(predictions[\"Target\"], predictions[\"Predictions\"])"
      ],
      "metadata": {
        "id": "2q2MA7LMTYbN"
      },
      "execution_count": null,
      "outputs": []
    },
    {
      "cell_type": "markdown",
      "source": [
        "### LTSM"
      ],
      "metadata": {
        "id": "OZXCfYAY5QTI"
      }
    },
    {
      "cell_type": "code",
      "source": [
        "#LTSM\n",
        "# need to upload csv file for stock\n",
        "\n",
        "import datetime\n",
        "import matplotlib.pyplot as plt\n",
        "\n",
        "\n",
        "df = pd.read_csv('MSFT.csv')\n",
        "df = df[['Date', 'Close']]\n",
        "def str_to_datetime(s):\n",
        "  split = s.split('-')\n",
        "  year, month, day = int(split[0]), int(split[1]), int(split[2])\n",
        "  return datetime.datetime(year=year, month=month, day=day)\n",
        "\n",
        "datetime_object = str_to_datetime('1986-03-19')\n",
        "df['Date'] = df['Date'].apply(str_to_datetime)\n",
        "df.index = df.pop('Date')\n",
        "\n",
        "plt.plot(df.index, df['Close'])"
      ],
      "metadata": {
        "id": "R1pcIQEl4EOI"
      },
      "execution_count": null,
      "outputs": []
    },
    {
      "cell_type": "code",
      "source": [
        "import numpy as np\n",
        "def df_to_windowed_df(dataframe, first_date_str, last_date_str, n=3):\n",
        "  first_date = str_to_datetime(first_date_str)\n",
        "  last_date  = str_to_datetime(last_date_str)\n",
        "\n",
        "  target_date = first_date\n",
        "\n",
        "  dates = []\n",
        "  X, Y = [], []\n",
        "\n",
        "  last_time = False\n",
        "  while True:\n",
        "    df_subset = dataframe.loc[:target_date].tail(n+1)\n",
        "\n",
        "    if len(df_subset) != n+1:\n",
        "      print(f'Error: Window of size {n} is too large for date {target_date}')\n",
        "      return\n",
        "\n",
        "    values = df_subset['Close'].to_numpy()\n",
        "    x, y = values[:-1], values[-1]\n",
        "\n",
        "    dates.append(target_date)\n",
        "    X.append(x)\n",
        "    Y.append(y)\n",
        "\n",
        "    next_week = dataframe.loc[target_date:target_date+datetime.timedelta(days=7)]\n",
        "    next_datetime_str = str(next_week.head(2).tail(1).index.values[0])\n",
        "    next_date_str = next_datetime_str.split('T')[0]\n",
        "    year_month_day = next_date_str.split('-')\n",
        "    year, month, day = year_month_day\n",
        "    next_date = datetime.datetime(day=int(day), month=int(month), year=int(year))\n",
        "\n",
        "    if last_time:\n",
        "      break\n",
        "\n",
        "    target_date = next_date\n",
        "\n",
        "    if target_date == last_date:\n",
        "      last_time = True\n",
        "\n",
        "  ret_df = pd.DataFrame({})\n",
        "  ret_df['Target Date'] = dates\n",
        "\n",
        "  X = np.array(X)\n",
        "  for i in range(0, n):\n",
        "    X[:, i]\n",
        "    ret_df[f'Target-{n-i}'] = X[:, i]\n",
        "\n",
        "  ret_df['Target'] = Y\n",
        "\n",
        "  return ret_df\n",
        "\n",
        "windowed_df = df_to_windowed_df(df,\n",
        "                                '2022-03-18',\n",
        "                                '2024-04-29',\n",
        "                                n=3)\n",
        "windowed_df"
      ],
      "metadata": {
        "id": "aBpKN1rg4gOT"
      },
      "execution_count": null,
      "outputs": []
    },
    {
      "cell_type": "code",
      "source": [
        "def windowed_df_date_X_y(windowed_dataframe):\n",
        "  df_as_np = windowed_dataframe.to_numpy()\n",
        "  dates = df_as_np[:, 0]\n",
        "  middle_matrix = df_as_np[:, 1:-1]\n",
        "  X = middle_matrix.reshape((len(dates), middle_matrix.shape[1], 1))\n",
        "  Y = df_as_np[:, -1]\n",
        "  return dates, X.astype(np.float32), Y.astype(np.float32)\n",
        "\n",
        "dates, X, y = windowed_df_date_X_y(windowed_df)\n",
        "dates.shape, X.shape, y.shape\n",
        "\n",
        "q_80 = int(len(dates) * 0.8)\n",
        "q_90 = int(len(dates) * 0.9)\n",
        "dates_train, X_train, y_train = dates[:q_80], X[:q_80], y[:q_80]\n",
        "dates_val, X_val, y_val = dates[q_80:q_90], X[q_80:q_90], y[q_80:q_90]\n",
        "dates_test, X_test, y_test = dates[q_90:], X[q_90:], y[q_90:]\n",
        "\n",
        "plt.plot(dates_train, y_train)\n",
        "plt.plot(dates_val, y_val)\n",
        "plt.plot(dates_test, y_test)\n",
        "\n",
        "plt.legend(['Train', 'Validation', 'Test'])\n",
        "\n",
        "from tensorflow.keras.models import Sequential\n",
        "from tensorflow.keras.optimizers import Adam\n",
        "from tensorflow.keras import layers\n",
        "\n",
        "model = Sequential([layers.Input((3, 1)),\n",
        "                    layers.LSTM(64),\n",
        "                    layers.Dense(32, activation='relu'),\n",
        "                    layers.Dense(32, activation='relu'),\n",
        "                    layers.Dense(1)])\n",
        "\n",
        "model.compile(loss='mse',\n",
        "              optimizer=Adam(learning_rate=0.001),\n",
        "              metrics=['mean_absolute_error'])\n",
        "\n",
        "model.fit(X_train, y_train, validation_data=(X_val, y_val), epochs=200)"
      ],
      "metadata": {
        "id": "YP-BCzy54iDc"
      },
      "execution_count": null,
      "outputs": []
    },
    {
      "cell_type": "code",
      "source": [
        "train_predictions = model.predict(X_train).flatten()\n",
        "plt.plot(dates_train, train_predictions)\n",
        "plt.plot(dates_train, y_train)\n",
        "plt.legend(['Training Predictions', 'Training Observations'])"
      ],
      "metadata": {
        "id": "OQjsK22X4oY4"
      },
      "execution_count": null,
      "outputs": []
    },
    {
      "cell_type": "code",
      "source": [
        "val_predictions = model.predict(X_val).flatten()\n",
        "plt.plot(dates_val, val_predictions)\n",
        "plt.plot(dates_val, y_val)\n",
        "plt.legend(['Validation Predictions', 'Validation Observations'])"
      ],
      "metadata": {
        "id": "aTuStkMy4xF5"
      },
      "execution_count": null,
      "outputs": []
    },
    {
      "cell_type": "code",
      "source": [
        "test_predictions = model.predict(X_test).flatten()\n",
        "\n",
        "plt.plot(dates_test, test_predictions)\n",
        "plt.plot(dates_test, y_test)\n",
        "plt.legend(['Testing Predictions', 'Testing Observations'])"
      ],
      "metadata": {
        "id": "S5AHeDcp4zL8"
      },
      "execution_count": null,
      "outputs": []
    },
    {
      "cell_type": "code",
      "source": [
        "plt.plot(dates_train, train_predictions)\n",
        "plt.plot(dates_train, y_train)\n",
        "plt.plot(dates_val, val_predictions)\n",
        "plt.plot(dates_val, y_val)\n",
        "plt.plot(dates_test, test_predictions)\n",
        "plt.plot(dates_test, y_test)\n",
        "plt.legend(['Training Predictions',\n",
        "            'Training Observations',\n",
        "            'Validation Predictions',\n",
        "            'Validation Observations',\n",
        "            'Testing Predictions',\n",
        "            'Testing Observations'])"
      ],
      "metadata": {
        "id": "Jcbwbu4I40s-"
      },
      "execution_count": null,
      "outputs": []
    },
    {
      "cell_type": "code",
      "source": [
        "from copy import deepcopy\n",
        "\n",
        "recursive_predictions = []\n",
        "recursive_dates = np.concatenate([dates_val, dates_test])\n",
        "\n",
        "for target_date in recursive_dates:\n",
        "  last_window = deepcopy(X_train[-1])\n",
        "  next_prediction = model.predict(np.array([last_window])).flatten()\n",
        "  recursive_predictions.append(next_prediction)\n",
        "  last_window[-1] = next_prediction\n",
        "\n",
        "plt.plot(dates_train, train_predictions)\n",
        "plt.plot(dates_train, y_train)\n",
        "plt.plot(dates_val, val_predictions)\n",
        "plt.plot(dates_val, y_val)\n",
        "plt.plot(dates_test, test_predictions)\n",
        "plt.plot(dates_test, y_test)\n",
        "plt.plot(recursive_dates, recursive_predictions)\n",
        "plt.legend(['Training Predictions',\n",
        "            'Training Observations',\n",
        "            'Validation Predictions',\n",
        "            'Validation Observations',\n",
        "            'Testing Predictions',\n",
        "            'Testing Observations',\n",
        "            'Recursive Predictions'])"
      ],
      "metadata": {
        "id": "JexyubjL42B5"
      },
      "execution_count": null,
      "outputs": []
    }
  ]
}